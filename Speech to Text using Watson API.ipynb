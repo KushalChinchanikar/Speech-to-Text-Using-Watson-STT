{
 "cells": [
  {
   "cell_type": "code",
   "execution_count": 1,
   "id": "38251a3a",
   "metadata": {},
   "outputs": [
    {
     "name": "stdout",
     "output_type": "stream",
     "text": [
      "Requirement already satisfied: ibm_watson in c:\\users\\kusha\\appdata\\local\\programs\\python\\python39\\lib\\site-packages (5.1.0)\n",
      "Requirement already satisfied: requests<3.0,>=2.0 in c:\\users\\kusha\\appdata\\local\\programs\\python\\python39\\lib\\site-packages (from ibm_watson) (2.25.1)\n",
      "Requirement already satisfied: python_dateutil>=2.5.3 in c:\\users\\kusha\\appdata\\local\\programs\\python\\python39\\lib\\site-packages (from ibm_watson) (2.8.1)\n",
      "Requirement already satisfied: websocket-client==0.48.0 in c:\\users\\kusha\\appdata\\local\\programs\\python\\python39\\lib\\site-packages (from ibm_watson) (0.48.0)\n",
      "Requirement already satisfied: ibm_cloud_sdk_core>=3.3.6 in c:\\users\\kusha\\appdata\\local\\programs\\python\\python39\\lib\\site-packages (from ibm_watson) (3.10.0)\n",
      "Requirement already satisfied: six in c:\\users\\kusha\\appdata\\local\\programs\\python\\python39\\lib\\site-packages (from websocket-client==0.48.0->ibm_watson) (1.16.0)\n",
      "Requirement already satisfied: PyJWT<3.0.0,>=2.0.1 in c:\\users\\kusha\\appdata\\local\\programs\\python\\python39\\lib\\site-packages (from ibm_cloud_sdk_core>=3.3.6->ibm_watson) (2.1.0)\n",
      "Requirement already satisfied: urllib3<1.27,>=1.21.1 in c:\\users\\kusha\\appdata\\local\\programs\\python\\python39\\lib\\site-packages (from requests<3.0,>=2.0->ibm_watson) (1.26.5)\n",
      "Requirement already satisfied: certifi>=2017.4.17 in c:\\users\\kusha\\appdata\\local\\programs\\python\\python39\\lib\\site-packages (from requests<3.0,>=2.0->ibm_watson) (2021.5.30)\n",
      "Requirement already satisfied: chardet<5,>=3.0.2 in c:\\users\\kusha\\appdata\\local\\programs\\python\\python39\\lib\\site-packages (from requests<3.0,>=2.0->ibm_watson) (4.0.0)\n",
      "Requirement already satisfied: idna<3,>=2.5 in c:\\users\\kusha\\appdata\\local\\programs\\python\\python39\\lib\\site-packages (from requests<3.0,>=2.0->ibm_watson) (2.10)\n"
     ]
    }
   ],
   "source": [
    "!pip install ibm_watson"
   ]
  },
  {
   "cell_type": "code",
   "execution_count": 2,
   "id": "f2fa5438",
   "metadata": {},
   "outputs": [],
   "source": [
    "from ibm_watson import SpeechToTextV1"
   ]
  },
  {
   "cell_type": "code",
   "execution_count": 3,
   "id": "0e28f343",
   "metadata": {},
   "outputs": [],
   "source": [
    "from ibm_cloud_sdk_core.authenticators import IAMAuthenticator"
   ]
  },
  {
   "cell_type": "code",
   "execution_count": 4,
   "id": "d31780cb",
   "metadata": {},
   "outputs": [],
   "source": [
    "apikey = 'ZVx4xblHNvDdnu1HjSvJWIfg3GXM1O3sGTUoYuJePNOn'\n",
    "url = 'https://api.eu-gb.speech-to-text.watson.cloud.ibm.com/instances/077ddd2c-b6b2-439e-b9a5-eb8637279d64'"
   ]
  },
  {
   "cell_type": "code",
   "execution_count": 6,
   "id": "d12ed850",
   "metadata": {},
   "outputs": [],
   "source": [
    "authenticator = IAMAuthenticator(apikey)\n",
    "stt = SpeechToTextV1(authenticator = authenticator)\n",
    "stt.set_service_url(url)"
   ]
  },
  {
   "cell_type": "code",
   "execution_count": 22,
   "id": "ffe6eca8",
   "metadata": {},
   "outputs": [],
   "source": [
    "with open('hello2.mp3','rb') as f:\n",
    "    res = stt.recognize(audio=f, content_type='audio/mp3', model='en-GB_NarrowbandModel', continuous = True).get_result()"
   ]
  },
  {
   "cell_type": "code",
   "execution_count": 23,
   "id": "730e7362",
   "metadata": {},
   "outputs": [
    {
     "data": {
      "text/plain": [
       "{'result_index': 0,\n",
       " 'results': [{'final': True,\n",
       "   'alternatives': [{'transcript': \"hello everyone I'm learning how to convert speech to text \",\n",
       "     'confidence': 0.97}]}]}"
      ]
     },
     "execution_count": 23,
     "metadata": {},
     "output_type": "execute_result"
    }
   ],
   "source": [
    "res"
   ]
  },
  {
   "cell_type": "code",
   "execution_count": 24,
   "id": "8107a86b",
   "metadata": {},
   "outputs": [
    {
     "data": {
      "text/plain": [
       "\"hello everyone I'm learning how to convert speech to text \""
      ]
     },
     "execution_count": 24,
     "metadata": {},
     "output_type": "execute_result"
    }
   ],
   "source": [
    "text = res['results'][0]['alternatives'][0]['transcript']\n",
    "text"
   ]
  },
  {
   "cell_type": "code",
   "execution_count": 26,
   "id": "78e1faf5",
   "metadata": {},
   "outputs": [],
   "source": [
    "with open('output.txt','w') as out:\n",
    "    out.writelines(text)"
   ]
  },
  {
   "cell_type": "code",
   "execution_count": null,
   "id": "eb19da44",
   "metadata": {},
   "outputs": [],
   "source": []
  }
 ],
 "metadata": {
  "kernelspec": {
   "display_name": "Python 3",
   "language": "python",
   "name": "python3"
  },
  "language_info": {
   "codemirror_mode": {
    "name": "ipython",
    "version": 3
   },
   "file_extension": ".py",
   "mimetype": "text/x-python",
   "name": "python",
   "nbconvert_exporter": "python",
   "pygments_lexer": "ipython3",
   "version": "3.9.1"
  }
 },
 "nbformat": 4,
 "nbformat_minor": 5
}
